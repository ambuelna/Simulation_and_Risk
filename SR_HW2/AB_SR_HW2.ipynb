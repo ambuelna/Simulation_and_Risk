{
 "cells": [
  {
   "cell_type": "markdown",
   "metadata": {},
   "source": [
    "1.) Imports"
   ]
  },
  {
   "cell_type": "code",
   "execution_count": 82,
   "metadata": {},
   "outputs": [],
   "source": [
    "# Import required libraries\n",
    "import os\n",
    "import pandas as pd\n",
    "import numpy as np\n",
    "import scipy.linalg as la\n",
    "import matplotlib.pyplot as plt"
   ]
  },
  {
   "cell_type": "markdown",
   "metadata": {},
   "source": [
    "2.) Load Data"
   ]
  },
  {
   "cell_type": "code",
   "execution_count": 84,
   "metadata": {},
   "outputs": [
    {
     "name": "stdout",
     "output_type": "stream",
     "text": [
      "Current working directory: C:\\Users\\ambue\\OneDrive\\Documents\\Working_Directory\n",
      "New working directory: C:\\Users\\ambue\\OneDrive\\Documents\\Working_Directory\n"
     ]
    }
   ],
   "source": [
    "# Check the current working directory\n",
    "print(\"Current working directory:\", os.getcwd())\n",
    "\n",
    "# Set the working directory\n",
    "os.chdir('C:/Users/ambue/OneDrive/Documents/Working_Directory')  # Replace with your own desired path\n",
    "print(\"New working directory:\", os.getcwd())\n",
    "\n",
    "# Set File Path\n",
    "file_path = r\"C:\\Users\\ambue\\OneDrive\\Documents\\Working_Directory\\Analysis_Data.xlsx\"\n",
    "\n",
    "# Load Drill Cost Data\n",
    "df_drillCost = pd.read_excel(file_path, sheet_name='Drilling Cost', skiprows=2)\n",
    "\n",
    "# Load Oil Price Data\n",
    "df_projection = pd.read_excel(file_path, sheet_name='Price Projections', skiprows=2)"
   ]
  },
  {
   "cell_type": "markdown",
   "metadata": {},
   "source": [
    "3.) Simulation Parameters"
   ]
  },
  {
   "cell_type": "code",
   "execution_count": 86,
   "metadata": {},
   "outputs": [],
   "source": [
    "# Number of simulations\n",
    "simSize = 100000\n",
    "np.random.seed(2222002)  # Set seed for reproducibility"
   ]
  },
  {
   "cell_type": "markdown",
   "metadata": {},
   "source": [
    "4.) Compute Drilling Costs"
   ]
  },
  {
   "cell_type": "code",
   "execution_count": 88,
   "metadata": {},
   "outputs": [],
   "source": [
    "# Initial Drilling Cost from 2006-06-30 (using historical return distribution)\n",
    "P0 = df_drillCost[df_drillCost['Date'] == '2006-06-30'].iloc[:, 1:4].mean(axis=1).item() * 1000\n",
    "\n",
    "data = []\n",
    "\n",
    "# Apply stochastic process to project drilling costs forward\n",
    "for i in range(simSize):\n",
    "    Pt = P0\n",
    "    for j in range(5):  # 2006-2012 (normal distribution)\n",
    "        ret = np.random.normal(loc=0.131, scale=0.178)\n",
    "        Pt *= (1 + ret)\n",
    "    for j in range(3):  # 2012-2015 (triangular distribution)\n",
    "        ret = np.random.triangular(-0.22, -0.0917, -0.07)\n",
    "        Pt *= (1 + ret)\n",
    "    for j in range(10):  # 2015-2025 (triangular distribution)\n",
    "        ret = np.random.triangular(0.02, 0.05, 0.06)\n",
    "        Pt *= (1 + ret)\n",
    "\n",
    "    data.append(Pt)\n",
    "\n",
    "# Convert to NumPy array\n",
    "drilling = np.array(data)"
   ]
  },
  {
   "cell_type": "markdown",
   "metadata": {},
   "source": [
    "5.) Compute Year 0 Costs"
   ]
  },
  {
   "cell_type": "code",
   "execution_count": 90,
   "metadata": {},
   "outputs": [],
   "source": [
    "# Seismic & Lease Costs\n",
    "seismic = np.random.normal(loc=3, scale=0.35, size=simSize)\n",
    "lease = np.random.normal(loc=600, scale=50, size=simSize)\n",
    "\n",
    "# Completion Costs\n",
    "completion = np.random.normal(loc=390000, scale=50000, size=simSize)\n",
    "\n",
    "# Professional Overhead\n",
    "overhead = np.random.triangular(172000, 215000, 279000, size=simSize)\n",
    "\n",
    "# Total Dry Well Cost\n",
    "dryWell = drilling + seismic * 43000 + lease * 960 + overhead"
   ]
  },
  {
   "cell_type": "markdown",
   "metadata": {},
   "source": [
    "6.) Compute Initial Production and Decline Rate"
   ]
  },
  {
   "cell_type": "code",
   "execution_count": 92,
   "metadata": {},
   "outputs": [],
   "source": [
    "# Lognormal to Normal Transformation\n",
    "LogAverage = 420\n",
    "LogStdDev = 120\n",
    "SigmaNormal = np.sqrt(np.log(1 + (LogStdDev / LogAverage) ** 2))\n",
    "MeanNormal = np.log(LogAverage) - SigmaNormal ** 2 / 2\n",
    "\n",
    "# Initial Production (IP)\n",
    "IP = np.random.lognormal(mean=6, sigma=0.28, size=simSize)\n",
    "\n",
    "# Decline Rate\n",
    "decline = np.random.uniform(low=0.15, high=0.32, size=simSize)\n",
    "\n",
    "# Enforce Correlation Between IP & Decline Rate\n",
    "corr_matrix = np.array([[1, 0.64], [0.64, 1]])\n",
    "chol_decomp = la.cholesky(corr_matrix, lower=False)\n",
    "\n",
    "# Standardization Functions\n",
    "def standardize(x):\n",
    "    return (x - np.mean(x)) / np.std(x)\n",
    "\n",
    "def destandardize(x_std, x):\n",
    "    return (x_std * np.std(x)) + np.mean(x)\n",
    "\n",
    "# Apply Correlation\n",
    "Both_rate = np.array([standardize(IP), standardize(decline)])\n",
    "bend = chol_decomp @ Both_rate\n",
    "final_rate = np.array([destandardize(bend[0], IP), destandardize(bend[1], decline)])"
   ]
  },
  {
   "cell_type": "markdown",
   "metadata": {},
   "source": [
    "7.) Compute Revenue Interest and Initalize Net Present Value (NPV)"
   ]
  },
  {
   "cell_type": "code",
   "execution_count": 94,
   "metadata": {},
   "outputs": [],
   "source": [
    "# Revenue Interest\n",
    "interest = np.random.normal(loc=0.75, scale=0.02, size=simSize)\n",
    "\n",
    "# Start NPV Calculation with Year 0 Costs\n",
    "npv = np.array(dryWell + completion)"
   ]
  },
  {
   "cell_type": "markdown",
   "metadata": {},
   "source": [
    "8.) Forecast Future Revenues (15-Year Projection)"
   ]
  },
  {
   "cell_type": "code",
   "execution_count": 96,
   "metadata": {},
   "outputs": [],
   "source": [
    "# Forecast for 15 Years\n",
    "for i in range(15):\n",
    "    yearBegin = np.array(final_rate[0])\n",
    "    yearEnd = yearBegin * (1 - final_rate[1])\n",
    "    production = 365 * (yearBegin + yearEnd) / 2\n",
    "\n",
    "    # Oil Price Forecast (Dynamic for Each Year)\n",
    "    low = df_projection[df_projection['Year'] == 2026 + i]['Low Oil Price'].item()\n",
    "    high = df_projection[df_projection['Year'] == 2026 + i]['High Oil Price'].item()\n",
    "    exp = df_projection[df_projection['Year'] == 2026 + i]['AEO2023 Reference'].item()\n",
    "    price = np.random.triangular(low, exp, high, size=simSize)\n",
    "\n",
    "    # Net Revenue & Severance Tax\n",
    "    revenue = production * price * interest * (1 - 0.046)\n",
    "\n",
    "    # Operating Cost\n",
    "    operate = np.full(simSize, np.random.normal(loc=2.25, scale=0.3), dtype=float)\n",
    "\n",
    "    # Apply Correct Discounting for NPV\n",
    "    npv += (revenue - operate - overhead) / (1.1 ** (i + 1))\n",
    "    final_rate[0] = yearEnd"
   ]
  },
  {
   "cell_type": "markdown",
   "metadata": {},
   "source": [
    "9.) Convert NPV to Millions and Visualize Distribution"
   ]
  },
  {
   "cell_type": "code",
   "execution_count": 117,
   "metadata": {},
   "outputs": [
    {
     "data": {
      "image/png": "[encoded data removed]",
      "text/plain": [
       "<Figure size 800x600 with 1 Axes>"
      ]
     },
     "metadata": {},
     "output_type": "display_data"
    },
    {
     "name": "stdout",
     "output_type": "stream",
     "text": [
      "  Statistic         NPV\n",
      "0      Mean   32.373793\n",
      "1    Median   31.326792\n",
      "2   Std Dev    9.324605\n",
      "3       Min    3.870455\n",
      "4       Max  112.686741\n",
      "Simulation complete. Results saved to 'npv_results.csv'.\n"
     ]
    }
   ],
   "source": [
    "# Convert NPV to Millions\n",
    "npv_millions = npv / 1_000_000\n",
    "\n",
    "# Define the file path to save the image\n",
    "plot_filename = \"npv_distribution.png\" \n",
    "\n",
    "# Histogram of NPV\n",
    "plt.figure(figsize=(8,6))\n",
    "plt.hist(npv_millions, bins=100, color=\"skyblue\", alpha=0.7, edgecolor=\"black\")\n",
    "plt.axvline(np.mean(npv_millions), color=\"red\", linestyle=\"dashed\", linewidth=2, label=f\"Mean NPV: ${np.mean(npv_millions):,.2f}M\")\n",
    "plt.xlabel(\"Net Present Value (Millions)\")\n",
    "plt.ylabel(\"Frequency\")\n",
    "plt.title(\"NPV Distribution\")\n",
    "plt.legend()\n",
    "\n",
    "# Save the plot before displaying it\n",
    "plt.savefig(plot_filename, dpi=300, bbox_inches=\"tight\")\n",
    "\n",
    "#Sh\n",
    "plt.show()\n",
    "\n",
    "# Summary Statistics\n",
    "summary_stats = pd.DataFrame({\n",
    "    \"Statistic\": [\"Mean\", \"Median\", \"Std Dev\", \"Min\", \"Max\"],\n",
    "    \"NPV\": [np.mean(npv_millions), np.median(npv_millions), np.std(npv_millions), np.min(npv_millions), np.max(npv_millions)]\n",
    "})\n",
    "\n",
    "print(summary_stats)\n",
    "\n",
    "# Save results\n",
    "npv_df = pd.DataFrame({\"NPV (Millions)\": npv_millions})\n",
    "npv_df.to_csv(\"npv_results.csv\", index=False)\n",
    "\n",
    "print(\"Simulation complete. Results saved to 'npv_results.csv'.\")"
   ]
  },
  {
   "cell_type": "code",
   "execution_count": null,
   "metadata": {},
   "outputs": [],
   "source": []
  }
 ],
 "metadata": {
  "kernelspec": {
   "display_name": "Python 3 (ipykernel)",
   "language": "python",
   "name": "python3"
  },
  "language_info": {
   "codemirror_mode": {
    "name": "ipython",
    "version": 3
   },
   "file_extension": ".py",
   "mimetype": "text/x-python",
   "name": "python",
   "nbconvert_exporter": "python",
   "pygments_lexer": "ipython3",
   "version": "3.11.7"
  }
 },
 "nbformat": 4,
 "nbformat_minor": 4
}
